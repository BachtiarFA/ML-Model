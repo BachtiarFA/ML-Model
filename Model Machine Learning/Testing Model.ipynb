{
 "cells": [
  {
   "cell_type": "code",
   "execution_count": null,
   "metadata": {},
   "outputs": [],
   "source": [
    "import pandas as pd\n",
    "\n",
    "# Load Dataset\n",
    "df = pd.read_hdf('model.h5', 'df')\n",
    "\n",
    "# Pilih Datafrane\n",
    "data_model = df[['Place_Name','City','Images','Price','Rating','Lat', 'Long','Category','Description']]\n",
    "\n",
    "# Function untuk recommendation dengan input city dan budget\n",
    "def recommend_places(city, budget, top_n=3):\n",
    "    # Filter data based on input city and budget\n",
    "    harga = data_model['Price'] * top_n\n",
    "    recommendations = data_model[(data_model['City'].str.contains(city, case=False, na=False)) & (harga <= budget)]\n",
    "    \n",
    "    recommendations['abs_diff'] = abs(recommendations['Price'] - budget)\n",
    "    recommendations.sort_values(by='abs_diff', ascending=True, inplace=True)\n",
    "\n",
    "    # Return the top_n results\n",
    "    return recommendations.head(top_n)\n",
    "\n",
    "# Input :\n",
    "city = 'Jakarta' \n",
    "budget = 100000  \n",
    "\n",
    "recommendations = recommend_places(city, budget)\n",
    "print(recommendations)\n"
   ]
  }
 ],
 "metadata": {
  "kernelspec": {
   "display_name": "base",
   "language": "python",
   "name": "python3"
  },
  "language_info": {
   "codemirror_mode": {
    "name": "ipython",
    "version": 3
   },
   "file_extension": ".py",
   "mimetype": "text/x-python",
   "name": "python",
   "nbconvert_exporter": "python",
   "pygments_lexer": "ipython3",
   "version": "3.9.12"
  },
  "orig_nbformat": 4
 },
 "nbformat": 4,
 "nbformat_minor": 2
}
